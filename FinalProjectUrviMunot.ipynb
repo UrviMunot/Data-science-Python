{
 "cells": [
  {
   "cell_type": "markdown",
   "metadata": {},
   "source": [
    "# Data Analysis on Crimes in Chicago"
   ]
  },
  {
   "cell_type": "code",
   "execution_count": 1,
   "metadata": {
    "collapsed": false
   },
   "outputs": [
    {
     "name": "stdout",
     "output_type": "stream",
     "text": [
      "Populating the interactive namespace from numpy and matplotlib\n"
     ]
    }
   ],
   "source": [
    "from IPython.core.interactiveshell import InteractiveShell\n",
    "InteractiveShell.ast_node_interactivity = \"all\"\n",
    "import numpy as np\n",
    "import pandas as pd\n",
    "import seaborn as sns\n",
    "import sklearn as sk\n",
    "%pylab inline"
   ]
  },
  {
   "cell_type": "code",
   "execution_count": 2,
   "metadata": {
    "collapsed": true
   },
   "outputs": [],
   "source": [
    "df  = pd.read_csv('Chicago_Crimes_2012_to_2017.csv')"
   ]
  },
  {
   "cell_type": "markdown",
   "metadata": {},
   "source": [
    "Dataset contains crimes indicents occured in Chicago between 2012 to January 2017. Data is downloaded from kaggle.com"
   ]
  },
  {
   "cell_type": "code",
   "execution_count": 3,
   "metadata": {
    "collapsed": false
   },
   "outputs": [
    {
     "data": {
      "text/html": [
       "<div>\n",
       "<table border=\"1\" class=\"dataframe\">\n",
       "  <thead>\n",
       "    <tr style=\"text-align: right;\">\n",
       "      <th></th>\n",
       "      <th>Unnamed: 0</th>\n",
       "      <th>ID</th>\n",
       "      <th>Case Number</th>\n",
       "      <th>Date</th>\n",
       "      <th>Block</th>\n",
       "      <th>IUCR</th>\n",
       "      <th>Primary Type</th>\n",
       "      <th>Description</th>\n",
       "      <th>Location Description</th>\n",
       "      <th>Arrest</th>\n",
       "      <th>...</th>\n",
       "      <th>Ward</th>\n",
       "      <th>Community Area</th>\n",
       "      <th>FBI Code</th>\n",
       "      <th>X Coordinate</th>\n",
       "      <th>Y Coordinate</th>\n",
       "      <th>Year</th>\n",
       "      <th>Updated On</th>\n",
       "      <th>Latitude</th>\n",
       "      <th>Longitude</th>\n",
       "      <th>Location</th>\n",
       "    </tr>\n",
       "  </thead>\n",
       "  <tbody>\n",
       "    <tr>\n",
       "      <th>0</th>\n",
       "      <td>3</td>\n",
       "      <td>10508693</td>\n",
       "      <td>HZ250496</td>\n",
       "      <td>05/03/2016 11:40:00 PM</td>\n",
       "      <td>013XX S SAWYER AVE</td>\n",
       "      <td>0486</td>\n",
       "      <td>BATTERY</td>\n",
       "      <td>DOMESTIC BATTERY SIMPLE</td>\n",
       "      <td>APARTMENT</td>\n",
       "      <td>True</td>\n",
       "      <td>...</td>\n",
       "      <td>24.0</td>\n",
       "      <td>29.0</td>\n",
       "      <td>08B</td>\n",
       "      <td>1154907.0</td>\n",
       "      <td>1893681.0</td>\n",
       "      <td>2016</td>\n",
       "      <td>05/10/2016 03:56:50 PM</td>\n",
       "      <td>41.864073</td>\n",
       "      <td>-87.706819</td>\n",
       "      <td>(41.864073157, -87.706818608)</td>\n",
       "    </tr>\n",
       "    <tr>\n",
       "      <th>1</th>\n",
       "      <td>89</td>\n",
       "      <td>10508695</td>\n",
       "      <td>HZ250409</td>\n",
       "      <td>05/03/2016 09:40:00 PM</td>\n",
       "      <td>061XX S DREXEL AVE</td>\n",
       "      <td>0486</td>\n",
       "      <td>BATTERY</td>\n",
       "      <td>DOMESTIC BATTERY SIMPLE</td>\n",
       "      <td>RESIDENCE</td>\n",
       "      <td>False</td>\n",
       "      <td>...</td>\n",
       "      <td>20.0</td>\n",
       "      <td>42.0</td>\n",
       "      <td>08B</td>\n",
       "      <td>1183066.0</td>\n",
       "      <td>1864330.0</td>\n",
       "      <td>2016</td>\n",
       "      <td>05/10/2016 03:56:50 PM</td>\n",
       "      <td>41.782922</td>\n",
       "      <td>-87.604363</td>\n",
       "      <td>(41.782921527, -87.60436317)</td>\n",
       "    </tr>\n",
       "    <tr>\n",
       "      <th>2</th>\n",
       "      <td>197</td>\n",
       "      <td>10508697</td>\n",
       "      <td>HZ250503</td>\n",
       "      <td>05/03/2016 11:31:00 PM</td>\n",
       "      <td>053XX W CHICAGO AVE</td>\n",
       "      <td>0470</td>\n",
       "      <td>PUBLIC PEACE VIOLATION</td>\n",
       "      <td>RECKLESS CONDUCT</td>\n",
       "      <td>STREET</td>\n",
       "      <td>False</td>\n",
       "      <td>...</td>\n",
       "      <td>37.0</td>\n",
       "      <td>25.0</td>\n",
       "      <td>24</td>\n",
       "      <td>1140789.0</td>\n",
       "      <td>1904819.0</td>\n",
       "      <td>2016</td>\n",
       "      <td>05/10/2016 03:56:50 PM</td>\n",
       "      <td>41.894908</td>\n",
       "      <td>-87.758372</td>\n",
       "      <td>(41.894908283, -87.758371958)</td>\n",
       "    </tr>\n",
       "    <tr>\n",
       "      <th>3</th>\n",
       "      <td>673</td>\n",
       "      <td>10508698</td>\n",
       "      <td>HZ250424</td>\n",
       "      <td>05/03/2016 10:10:00 PM</td>\n",
       "      <td>049XX W FULTON ST</td>\n",
       "      <td>0460</td>\n",
       "      <td>BATTERY</td>\n",
       "      <td>SIMPLE</td>\n",
       "      <td>SIDEWALK</td>\n",
       "      <td>False</td>\n",
       "      <td>...</td>\n",
       "      <td>28.0</td>\n",
       "      <td>25.0</td>\n",
       "      <td>08B</td>\n",
       "      <td>1143223.0</td>\n",
       "      <td>1901475.0</td>\n",
       "      <td>2016</td>\n",
       "      <td>05/10/2016 03:56:50 PM</td>\n",
       "      <td>41.885687</td>\n",
       "      <td>-87.749516</td>\n",
       "      <td>(41.885686845, -87.749515983)</td>\n",
       "    </tr>\n",
       "    <tr>\n",
       "      <th>4</th>\n",
       "      <td>911</td>\n",
       "      <td>10508699</td>\n",
       "      <td>HZ250455</td>\n",
       "      <td>05/03/2016 10:00:00 PM</td>\n",
       "      <td>003XX N LOTUS AVE</td>\n",
       "      <td>0820</td>\n",
       "      <td>THEFT</td>\n",
       "      <td>$500 AND UNDER</td>\n",
       "      <td>RESIDENCE</td>\n",
       "      <td>False</td>\n",
       "      <td>...</td>\n",
       "      <td>28.0</td>\n",
       "      <td>25.0</td>\n",
       "      <td>06</td>\n",
       "      <td>1139890.0</td>\n",
       "      <td>1901675.0</td>\n",
       "      <td>2016</td>\n",
       "      <td>05/10/2016 03:56:50 PM</td>\n",
       "      <td>41.886297</td>\n",
       "      <td>-87.761751</td>\n",
       "      <td>(41.886297242, -87.761750709)</td>\n",
       "    </tr>\n",
       "  </tbody>\n",
       "</table>\n",
       "<p>5 rows × 23 columns</p>\n",
       "</div>"
      ],
      "text/plain": [
       "   Unnamed: 0        ID Case Number                    Date  \\\n",
       "0           3  10508693    HZ250496  05/03/2016 11:40:00 PM   \n",
       "1          89  10508695    HZ250409  05/03/2016 09:40:00 PM   \n",
       "2         197  10508697    HZ250503  05/03/2016 11:31:00 PM   \n",
       "3         673  10508698    HZ250424  05/03/2016 10:10:00 PM   \n",
       "4         911  10508699    HZ250455  05/03/2016 10:00:00 PM   \n",
       "\n",
       "                 Block  IUCR            Primary Type              Description  \\\n",
       "0   013XX S SAWYER AVE  0486                 BATTERY  DOMESTIC BATTERY SIMPLE   \n",
       "1   061XX S DREXEL AVE  0486                 BATTERY  DOMESTIC BATTERY SIMPLE   \n",
       "2  053XX W CHICAGO AVE  0470  PUBLIC PEACE VIOLATION         RECKLESS CONDUCT   \n",
       "3    049XX W FULTON ST  0460                 BATTERY                   SIMPLE   \n",
       "4    003XX N LOTUS AVE  0820                   THEFT           $500 AND UNDER   \n",
       "\n",
       "  Location Description Arrest              ...                Ward  \\\n",
       "0            APARTMENT   True              ...                24.0   \n",
       "1            RESIDENCE  False              ...                20.0   \n",
       "2               STREET  False              ...                37.0   \n",
       "3             SIDEWALK  False              ...                28.0   \n",
       "4            RESIDENCE  False              ...                28.0   \n",
       "\n",
       "   Community Area  FBI Code  X Coordinate  Y Coordinate  Year  \\\n",
       "0            29.0       08B     1154907.0     1893681.0  2016   \n",
       "1            42.0       08B     1183066.0     1864330.0  2016   \n",
       "2            25.0        24     1140789.0     1904819.0  2016   \n",
       "3            25.0       08B     1143223.0     1901475.0  2016   \n",
       "4            25.0        06     1139890.0     1901675.0  2016   \n",
       "\n",
       "               Updated On   Latitude  Longitude                       Location  \n",
       "0  05/10/2016 03:56:50 PM  41.864073 -87.706819  (41.864073157, -87.706818608)  \n",
       "1  05/10/2016 03:56:50 PM  41.782922 -87.604363   (41.782921527, -87.60436317)  \n",
       "2  05/10/2016 03:56:50 PM  41.894908 -87.758372  (41.894908283, -87.758371958)  \n",
       "3  05/10/2016 03:56:50 PM  41.885687 -87.749516  (41.885686845, -87.749515983)  \n",
       "4  05/10/2016 03:56:50 PM  41.886297 -87.761751  (41.886297242, -87.761750709)  \n",
       "\n",
       "[5 rows x 23 columns]"
      ]
     },
     "execution_count": 3,
     "metadata": {},
     "output_type": "execute_result"
    }
   ],
   "source": [
    "df.head(5)"
   ]
  },
  {
   "cell_type": "code",
   "execution_count": 4,
   "metadata": {
    "collapsed": false,
    "scrolled": true
   },
   "outputs": [
    {
     "data": {
      "text/plain": [
       "Index([u'Unnamed: 0', u'ID', u'Case Number', u'Date', u'Block', u'IUCR',\n",
       "       u'Primary Type', u'Description', u'Location Description', u'Arrest',\n",
       "       u'Domestic', u'Beat', u'District', u'Ward', u'Community Area',\n",
       "       u'FBI Code', u'X Coordinate', u'Y Coordinate', u'Year', u'Updated On',\n",
       "       u'Latitude', u'Longitude', u'Location'],\n",
       "      dtype='object')"
      ]
     },
     "execution_count": 4,
     "metadata": {},
     "output_type": "execute_result"
    }
   ],
   "source": [
    "df.columns"
   ]
  },
  {
   "cell_type": "markdown",
   "metadata": {},
   "source": [
    "The total number of crime incidences in the dataset:"
   ]
  },
  {
   "cell_type": "code",
   "execution_count": 5,
   "metadata": {
    "collapsed": false
   },
   "outputs": [
    {
     "data": {
      "text/plain": [
       "1456714"
      ]
     },
     "execution_count": 5,
     "metadata": {},
     "output_type": "execute_result"
    }
   ],
   "source": [
    "len(df)"
   ]
  },
  {
   "cell_type": "markdown",
   "metadata": {},
   "source": [
    "# Data content"
   ]
  },
  {
   "cell_type": "markdown",
   "metadata": {},
   "source": [
    "One row indicates one crime incident in the city\n",
    "\n",
    "The description of a few columns which will be used in the analysis is described below."
   ]
  },
  {
   "cell_type": "markdown",
   "metadata": {},
   "source": [
    "ID - Unique identifier for the record.\n",
    "\n",
    "Date - Date when the incident occurred. this is sometimes a best estimate.\n",
    "\n",
    "Block - The partially redacted address where the incident occurred, placing it on the same block as the actual address.\n",
    "\n",
    "Primary Type - The primary description of the IUCR code.\n",
    "\n",
    "Location Description - Description of the location where the incident occurred.\n",
    "\n",
    "Arrest - Indicates whether an arrest was made.\n",
    "\n",
    "Domestic - Indicates whether the incident was domestic-related as defined by the Illinois Domestic Violence Act.\n",
    "\n",
    "Beat - Indicates the beat where the incident occurred. A beat is the smallest police geographic area – each beat has a dedicated police beat car. Three to five beats make up a police sector, and three sectors make up a police district. The Chicago Police Department has 22 police districts. \n",
    "\n",
    "District - Indicates the police district where the incident occurred.\n",
    "\n",
    "Year - Year the incident occurred."
   ]
  },
  {
   "cell_type": "markdown",
   "metadata": {},
   "source": [
    "# Cleaning"
   ]
  },
  {
   "cell_type": "markdown",
   "metadata": {},
   "source": [
    "Making extra copies of original dataset"
   ]
  },
  {
   "cell_type": "code",
   "execution_count": 6,
   "metadata": {
    "collapsed": true
   },
   "outputs": [],
   "source": [
    "df4=df.copy()"
   ]
  },
  {
   "cell_type": "code",
   "execution_count": 7,
   "metadata": {
    "collapsed": true
   },
   "outputs": [],
   "source": [
    "df3=df.copy()"
   ]
  },
  {
   "cell_type": "markdown",
   "metadata": {},
   "source": [
    "Dropping tables which will not be important in the data analysis part"
   ]
  },
  {
   "cell_type": "code",
   "execution_count": 8,
   "metadata": {
    "collapsed": false
   },
   "outputs": [],
   "source": [
    "df.drop(['Unnamed: 0','X Coordinate','Y Coordinate','Community Area','Case Number','Description','Updated On','Ward','Latitude','Longitude','Location','FBI Code','IUCR'],axis=1,inplace=True)"
   ]
  },
  {
   "cell_type": "markdown",
   "metadata": {},
   "source": [
    "Checking and removing null values from the table"
   ]
  },
  {
   "cell_type": "code",
   "execution_count": 9,
   "metadata": {
    "collapsed": false,
    "scrolled": false
   },
   "outputs": [
    {
     "data": {
      "text/plain": [
       "ID                         0\n",
       "Date                       0\n",
       "Block                      0\n",
       "Primary Type               0\n",
       "Location Description    1658\n",
       "Arrest                     0\n",
       "Domestic                   0\n",
       "Beat                       0\n",
       "District                   1\n",
       "Year                       0\n",
       "dtype: int64"
      ]
     },
     "execution_count": 9,
     "metadata": {},
     "output_type": "execute_result"
    }
   ],
   "source": [
    "df.isnull().sum()"
   ]
  },
  {
   "cell_type": "code",
   "execution_count": 10,
   "metadata": {
    "collapsed": false,
    "scrolled": true
   },
   "outputs": [],
   "source": [
    "df=df.dropna(subset=['Location Description','District'], how='any')"
   ]
  },
  {
   "cell_type": "code",
   "execution_count": 11,
   "metadata": {
    "collapsed": false,
    "scrolled": true
   },
   "outputs": [
    {
     "data": {
      "text/plain": [
       "ID                        int64\n",
       "Date                     object\n",
       "Block                    object\n",
       "Primary Type             object\n",
       "Location Description     object\n",
       "Arrest                     bool\n",
       "Domestic                   bool\n",
       "Beat                      int64\n",
       "District                float64\n",
       "Year                      int64\n",
       "dtype: object"
      ]
     },
     "execution_count": 11,
     "metadata": {},
     "output_type": "execute_result"
    }
   ],
   "source": [
    "df.dtypes"
   ]
  },
  {
   "cell_type": "markdown",
   "metadata": {},
   "source": [
    "Converting in boolean values in columns Arrest and Domestic to 1 and 0"
   ]
  },
  {
   "cell_type": "code",
   "execution_count": 12,
   "metadata": {
    "collapsed": true
   },
   "outputs": [],
   "source": [
    "df['Arrest'] = (df['Arrest']).astype(int)"
   ]
  },
  {
   "cell_type": "code",
   "execution_count": 13,
   "metadata": {
    "collapsed": true
   },
   "outputs": [],
   "source": [
    "df['Domestic'] = (df['Domestic']).astype(int)"
   ]
  },
  {
   "cell_type": "code",
   "execution_count": 14,
   "metadata": {
    "collapsed": false
   },
   "outputs": [
    {
     "data": {
      "text/html": [
       "<div>\n",
       "<table border=\"1\" class=\"dataframe\">\n",
       "  <thead>\n",
       "    <tr style=\"text-align: right;\">\n",
       "      <th></th>\n",
       "      <th>ID</th>\n",
       "      <th>Date</th>\n",
       "      <th>Block</th>\n",
       "      <th>Primary Type</th>\n",
       "      <th>Location Description</th>\n",
       "      <th>Arrest</th>\n",
       "      <th>Domestic</th>\n",
       "      <th>Beat</th>\n",
       "      <th>District</th>\n",
       "      <th>Year</th>\n",
       "    </tr>\n",
       "  </thead>\n",
       "  <tbody>\n",
       "    <tr>\n",
       "      <th>0</th>\n",
       "      <td>10508693</td>\n",
       "      <td>05/03/2016 11:40:00 PM</td>\n",
       "      <td>013XX S SAWYER AVE</td>\n",
       "      <td>BATTERY</td>\n",
       "      <td>APARTMENT</td>\n",
       "      <td>1</td>\n",
       "      <td>1</td>\n",
       "      <td>1022</td>\n",
       "      <td>10.0</td>\n",
       "      <td>2016</td>\n",
       "    </tr>\n",
       "    <tr>\n",
       "      <th>1</th>\n",
       "      <td>10508695</td>\n",
       "      <td>05/03/2016 09:40:00 PM</td>\n",
       "      <td>061XX S DREXEL AVE</td>\n",
       "      <td>BATTERY</td>\n",
       "      <td>RESIDENCE</td>\n",
       "      <td>0</td>\n",
       "      <td>1</td>\n",
       "      <td>313</td>\n",
       "      <td>3.0</td>\n",
       "      <td>2016</td>\n",
       "    </tr>\n",
       "    <tr>\n",
       "      <th>2</th>\n",
       "      <td>10508697</td>\n",
       "      <td>05/03/2016 11:31:00 PM</td>\n",
       "      <td>053XX W CHICAGO AVE</td>\n",
       "      <td>PUBLIC PEACE VIOLATION</td>\n",
       "      <td>STREET</td>\n",
       "      <td>0</td>\n",
       "      <td>0</td>\n",
       "      <td>1524</td>\n",
       "      <td>15.0</td>\n",
       "      <td>2016</td>\n",
       "    </tr>\n",
       "    <tr>\n",
       "      <th>3</th>\n",
       "      <td>10508698</td>\n",
       "      <td>05/03/2016 10:10:00 PM</td>\n",
       "      <td>049XX W FULTON ST</td>\n",
       "      <td>BATTERY</td>\n",
       "      <td>SIDEWALK</td>\n",
       "      <td>0</td>\n",
       "      <td>0</td>\n",
       "      <td>1532</td>\n",
       "      <td>15.0</td>\n",
       "      <td>2016</td>\n",
       "    </tr>\n",
       "    <tr>\n",
       "      <th>4</th>\n",
       "      <td>10508699</td>\n",
       "      <td>05/03/2016 10:00:00 PM</td>\n",
       "      <td>003XX N LOTUS AVE</td>\n",
       "      <td>THEFT</td>\n",
       "      <td>RESIDENCE</td>\n",
       "      <td>0</td>\n",
       "      <td>1</td>\n",
       "      <td>1523</td>\n",
       "      <td>15.0</td>\n",
       "      <td>2016</td>\n",
       "    </tr>\n",
       "  </tbody>\n",
       "</table>\n",
       "</div>"
      ],
      "text/plain": [
       "         ID                    Date                Block  \\\n",
       "0  10508693  05/03/2016 11:40:00 PM   013XX S SAWYER AVE   \n",
       "1  10508695  05/03/2016 09:40:00 PM   061XX S DREXEL AVE   \n",
       "2  10508697  05/03/2016 11:31:00 PM  053XX W CHICAGO AVE   \n",
       "3  10508698  05/03/2016 10:10:00 PM    049XX W FULTON ST   \n",
       "4  10508699  05/03/2016 10:00:00 PM    003XX N LOTUS AVE   \n",
       "\n",
       "             Primary Type Location Description  Arrest  Domestic  Beat  \\\n",
       "0                 BATTERY            APARTMENT       1         1  1022   \n",
       "1                 BATTERY            RESIDENCE       0         1   313   \n",
       "2  PUBLIC PEACE VIOLATION               STREET       0         0  1524   \n",
       "3                 BATTERY             SIDEWALK       0         0  1532   \n",
       "4                   THEFT            RESIDENCE       0         1  1523   \n",
       "\n",
       "   District  Year  \n",
       "0      10.0  2016  \n",
       "1       3.0  2016  \n",
       "2      15.0  2016  \n",
       "3      15.0  2016  \n",
       "4      15.0  2016  "
      ]
     },
     "execution_count": 14,
     "metadata": {},
     "output_type": "execute_result"
    }
   ],
   "source": [
    "df.head()"
   ]
  },
  {
   "cell_type": "markdown",
   "metadata": {},
   "source": [
    "Using 'to_datetime' to convert the Date column in 'Timestamp' format to extract day,month,hour\n"
   ]
  },
  {
   "cell_type": "code",
   "execution_count": 15,
   "metadata": {
    "collapsed": false
   },
   "outputs": [],
   "source": [
    "df['DateTime']=pd.to_datetime(df['Date'])"
   ]
  },
  {
   "cell_type": "code",
   "execution_count": 16,
   "metadata": {
    "collapsed": true
   },
   "outputs": [],
   "source": [
    "def gethour(dtm):\n",
    "        return dtm.hour"
   ]
  },
  {
   "cell_type": "code",
   "execution_count": 17,
   "metadata": {
    "collapsed": false
   },
   "outputs": [],
   "source": [
    "df['hour']=df['DateTime'].apply(gethour)"
   ]
  },
  {
   "cell_type": "code",
   "execution_count": 18,
   "metadata": {
    "collapsed": true
   },
   "outputs": [],
   "source": [
    "def getmonth(dtm):\n",
    "        return dtm.month"
   ]
  },
  {
   "cell_type": "code",
   "execution_count": 19,
   "metadata": {
    "collapsed": false,
    "scrolled": true
   },
   "outputs": [],
   "source": [
    "df['Month']=df['DateTime'].apply(getmonth)"
   ]
  },
  {
   "cell_type": "code",
   "execution_count": 20,
   "metadata": {
    "collapsed": false
   },
   "outputs": [
    {
     "data": {
      "text/html": [
       "<div>\n",
       "<table border=\"1\" class=\"dataframe\">\n",
       "  <thead>\n",
       "    <tr style=\"text-align: right;\">\n",
       "      <th></th>\n",
       "      <th>ID</th>\n",
       "      <th>Date</th>\n",
       "      <th>Block</th>\n",
       "      <th>Primary Type</th>\n",
       "      <th>Location Description</th>\n",
       "      <th>Arrest</th>\n",
       "      <th>Domestic</th>\n",
       "      <th>Beat</th>\n",
       "      <th>District</th>\n",
       "      <th>Year</th>\n",
       "      <th>DateTime</th>\n",
       "      <th>hour</th>\n",
       "      <th>Month</th>\n",
       "    </tr>\n",
       "  </thead>\n",
       "  <tbody>\n",
       "    <tr>\n",
       "      <th>0</th>\n",
       "      <td>10508693</td>\n",
       "      <td>05/03/2016 11:40:00 PM</td>\n",
       "      <td>013XX S SAWYER AVE</td>\n",
       "      <td>BATTERY</td>\n",
       "      <td>APARTMENT</td>\n",
       "      <td>1</td>\n",
       "      <td>1</td>\n",
       "      <td>1022</td>\n",
       "      <td>10.0</td>\n",
       "      <td>2016</td>\n",
       "      <td>2016-05-03 23:40:00</td>\n",
       "      <td>23</td>\n",
       "      <td>5</td>\n",
       "    </tr>\n",
       "    <tr>\n",
       "      <th>1</th>\n",
       "      <td>10508695</td>\n",
       "      <td>05/03/2016 09:40:00 PM</td>\n",
       "      <td>061XX S DREXEL AVE</td>\n",
       "      <td>BATTERY</td>\n",
       "      <td>RESIDENCE</td>\n",
       "      <td>0</td>\n",
       "      <td>1</td>\n",
       "      <td>313</td>\n",
       "      <td>3.0</td>\n",
       "      <td>2016</td>\n",
       "      <td>2016-05-03 21:40:00</td>\n",
       "      <td>21</td>\n",
       "      <td>5</td>\n",
       "    </tr>\n",
       "    <tr>\n",
       "      <th>2</th>\n",
       "      <td>10508697</td>\n",
       "      <td>05/03/2016 11:31:00 PM</td>\n",
       "      <td>053XX W CHICAGO AVE</td>\n",
       "      <td>PUBLIC PEACE VIOLATION</td>\n",
       "      <td>STREET</td>\n",
       "      <td>0</td>\n",
       "      <td>0</td>\n",
       "      <td>1524</td>\n",
       "      <td>15.0</td>\n",
       "      <td>2016</td>\n",
       "      <td>2016-05-03 23:31:00</td>\n",
       "      <td>23</td>\n",
       "      <td>5</td>\n",
       "    </tr>\n",
       "    <tr>\n",
       "      <th>3</th>\n",
       "      <td>10508698</td>\n",
       "      <td>05/03/2016 10:10:00 PM</td>\n",
       "      <td>049XX W FULTON ST</td>\n",
       "      <td>BATTERY</td>\n",
       "      <td>SIDEWALK</td>\n",
       "      <td>0</td>\n",
       "      <td>0</td>\n",
       "      <td>1532</td>\n",
       "      <td>15.0</td>\n",
       "      <td>2016</td>\n",
       "      <td>2016-05-03 22:10:00</td>\n",
       "      <td>22</td>\n",
       "      <td>5</td>\n",
       "    </tr>\n",
       "    <tr>\n",
       "      <th>4</th>\n",
       "      <td>10508699</td>\n",
       "      <td>05/03/2016 10:00:00 PM</td>\n",
       "      <td>003XX N LOTUS AVE</td>\n",
       "      <td>THEFT</td>\n",
       "      <td>RESIDENCE</td>\n",
       "      <td>0</td>\n",
       "      <td>1</td>\n",
       "      <td>1523</td>\n",
       "      <td>15.0</td>\n",
       "      <td>2016</td>\n",
       "      <td>2016-05-03 22:00:00</td>\n",
       "      <td>22</td>\n",
       "      <td>5</td>\n",
       "    </tr>\n",
       "  </tbody>\n",
       "</table>\n",
       "</div>"
      ],
      "text/plain": [
       "         ID                    Date                Block  \\\n",
       "0  10508693  05/03/2016 11:40:00 PM   013XX S SAWYER AVE   \n",
       "1  10508695  05/03/2016 09:40:00 PM   061XX S DREXEL AVE   \n",
       "2  10508697  05/03/2016 11:31:00 PM  053XX W CHICAGO AVE   \n",
       "3  10508698  05/03/2016 10:10:00 PM    049XX W FULTON ST   \n",
       "4  10508699  05/03/2016 10:00:00 PM    003XX N LOTUS AVE   \n",
       "\n",
       "             Primary Type Location Description  Arrest  Domestic  Beat  \\\n",
       "0                 BATTERY            APARTMENT       1         1  1022   \n",
       "1                 BATTERY            RESIDENCE       0         1   313   \n",
       "2  PUBLIC PEACE VIOLATION               STREET       0         0  1524   \n",
       "3                 BATTERY             SIDEWALK       0         0  1532   \n",
       "4                   THEFT            RESIDENCE       0         1  1523   \n",
       "\n",
       "   District  Year            DateTime  hour  Month  \n",
       "0      10.0  2016 2016-05-03 23:40:00    23      5  \n",
       "1       3.0  2016 2016-05-03 21:40:00    21      5  \n",
       "2      15.0  2016 2016-05-03 23:31:00    23      5  \n",
       "3      15.0  2016 2016-05-03 22:10:00    22      5  \n",
       "4      15.0  2016 2016-05-03 22:00:00    22      5  "
      ]
     },
     "execution_count": 20,
     "metadata": {},
     "output_type": "execute_result"
    }
   ],
   "source": [
    "df.head()"
   ]
  },
  {
   "cell_type": "markdown",
   "metadata": {},
   "source": [
    "Making a new column of discretized hours"
   ]
  },
  {
   "cell_type": "code",
   "execution_count": 21,
   "metadata": {
    "collapsed": true
   },
   "outputs": [],
   "source": [
    "df5=df.copy()"
   ]
  },
  {
   "cell_type": "code",
   "execution_count": 22,
   "metadata": {
    "collapsed": true
   },
   "outputs": [],
   "source": [
    "df6=df.copy()"
   ]
  },
  {
   "cell_type": "code",
   "execution_count": 23,
   "metadata": {
    "collapsed": true
   },
   "outputs": [],
   "source": [
    "df5['discretized_hour'] = pd.qcut(df.hour, 7)"
   ]
  },
  {
   "cell_type": "code",
   "execution_count": 24,
   "metadata": {
    "collapsed": true
   },
   "outputs": [],
   "source": [
    "df6['discretized_hour'] = pd.qcut(df.hour, 5)"
   ]
  },
  {
   "cell_type": "code",
   "execution_count": 25,
   "metadata": {
    "collapsed": false
   },
   "outputs": [
    {
     "data": {
      "text/html": [
       "<div>\n",
       "<table border=\"1\" class=\"dataframe\">\n",
       "  <thead>\n",
       "    <tr style=\"text-align: right;\">\n",
       "      <th></th>\n",
       "      <th>ID</th>\n",
       "      <th>Date</th>\n",
       "      <th>Block</th>\n",
       "      <th>Primary Type</th>\n",
       "      <th>Location Description</th>\n",
       "      <th>Arrest</th>\n",
       "      <th>Domestic</th>\n",
       "      <th>Beat</th>\n",
       "      <th>District</th>\n",
       "      <th>Year</th>\n",
       "      <th>DateTime</th>\n",
       "      <th>hour</th>\n",
       "      <th>Month</th>\n",
       "      <th>discretized_hour</th>\n",
       "    </tr>\n",
       "  </thead>\n",
       "  <tbody>\n",
       "    <tr>\n",
       "      <th>0</th>\n",
       "      <td>10508693</td>\n",
       "      <td>05/03/2016 11:40:00 PM</td>\n",
       "      <td>013XX S SAWYER AVE</td>\n",
       "      <td>BATTERY</td>\n",
       "      <td>APARTMENT</td>\n",
       "      <td>1</td>\n",
       "      <td>1</td>\n",
       "      <td>1022</td>\n",
       "      <td>10.0</td>\n",
       "      <td>2016</td>\n",
       "      <td>2016-05-03 23:40:00</td>\n",
       "      <td>23</td>\n",
       "      <td>5</td>\n",
       "      <td>(21, 23]</td>\n",
       "    </tr>\n",
       "    <tr>\n",
       "      <th>1</th>\n",
       "      <td>10508695</td>\n",
       "      <td>05/03/2016 09:40:00 PM</td>\n",
       "      <td>061XX S DREXEL AVE</td>\n",
       "      <td>BATTERY</td>\n",
       "      <td>RESIDENCE</td>\n",
       "      <td>0</td>\n",
       "      <td>1</td>\n",
       "      <td>313</td>\n",
       "      <td>3.0</td>\n",
       "      <td>2016</td>\n",
       "      <td>2016-05-03 21:40:00</td>\n",
       "      <td>21</td>\n",
       "      <td>5</td>\n",
       "      <td>(18, 21]</td>\n",
       "    </tr>\n",
       "    <tr>\n",
       "      <th>2</th>\n",
       "      <td>10508697</td>\n",
       "      <td>05/03/2016 11:31:00 PM</td>\n",
       "      <td>053XX W CHICAGO AVE</td>\n",
       "      <td>PUBLIC PEACE VIOLATION</td>\n",
       "      <td>STREET</td>\n",
       "      <td>0</td>\n",
       "      <td>0</td>\n",
       "      <td>1524</td>\n",
       "      <td>15.0</td>\n",
       "      <td>2016</td>\n",
       "      <td>2016-05-03 23:31:00</td>\n",
       "      <td>23</td>\n",
       "      <td>5</td>\n",
       "      <td>(21, 23]</td>\n",
       "    </tr>\n",
       "    <tr>\n",
       "      <th>3</th>\n",
       "      <td>10508698</td>\n",
       "      <td>05/03/2016 10:10:00 PM</td>\n",
       "      <td>049XX W FULTON ST</td>\n",
       "      <td>BATTERY</td>\n",
       "      <td>SIDEWALK</td>\n",
       "      <td>0</td>\n",
       "      <td>0</td>\n",
       "      <td>1532</td>\n",
       "      <td>15.0</td>\n",
       "      <td>2016</td>\n",
       "      <td>2016-05-03 22:10:00</td>\n",
       "      <td>22</td>\n",
       "      <td>5</td>\n",
       "      <td>(21, 23]</td>\n",
       "    </tr>\n",
       "    <tr>\n",
       "      <th>4</th>\n",
       "      <td>10508699</td>\n",
       "      <td>05/03/2016 10:00:00 PM</td>\n",
       "      <td>003XX N LOTUS AVE</td>\n",
       "      <td>THEFT</td>\n",
       "      <td>RESIDENCE</td>\n",
       "      <td>0</td>\n",
       "      <td>1</td>\n",
       "      <td>1523</td>\n",
       "      <td>15.0</td>\n",
       "      <td>2016</td>\n",
       "      <td>2016-05-03 22:00:00</td>\n",
       "      <td>22</td>\n",
       "      <td>5</td>\n",
       "      <td>(21, 23]</td>\n",
       "    </tr>\n",
       "  </tbody>\n",
       "</table>\n",
       "</div>"
      ],
      "text/plain": [
       "         ID                    Date                Block  \\\n",
       "0  10508693  05/03/2016 11:40:00 PM   013XX S SAWYER AVE   \n",
       "1  10508695  05/03/2016 09:40:00 PM   061XX S DREXEL AVE   \n",
       "2  10508697  05/03/2016 11:31:00 PM  053XX W CHICAGO AVE   \n",
       "3  10508698  05/03/2016 10:10:00 PM    049XX W FULTON ST   \n",
       "4  10508699  05/03/2016 10:00:00 PM    003XX N LOTUS AVE   \n",
       "\n",
       "             Primary Type Location Description  Arrest  Domestic  Beat  \\\n",
       "0                 BATTERY            APARTMENT       1         1  1022   \n",
       "1                 BATTERY            RESIDENCE       0         1   313   \n",
       "2  PUBLIC PEACE VIOLATION               STREET       0         0  1524   \n",
       "3                 BATTERY             SIDEWALK       0         0  1532   \n",
       "4                   THEFT            RESIDENCE       0         1  1523   \n",
       "\n",
       "   District  Year            DateTime  hour  Month discretized_hour  \n",
       "0      10.0  2016 2016-05-03 23:40:00    23      5         (21, 23]  \n",
       "1       3.0  2016 2016-05-03 21:40:00    21      5         (18, 21]  \n",
       "2      15.0  2016 2016-05-03 23:31:00    23      5         (21, 23]  \n",
       "3      15.0  2016 2016-05-03 22:10:00    22      5         (21, 23]  \n",
       "4      15.0  2016 2016-05-03 22:00:00    22      5         (21, 23]  "
      ]
     },
     "execution_count": 25,
     "metadata": {},
     "output_type": "execute_result"
    }
   ],
   "source": [
    "df5.head()"
   ]
  },
  {
   "cell_type": "markdown",
   "metadata": {},
   "source": [
    "# Analysis"
   ]
  },
  {
   "cell_type": "markdown",
   "metadata": {},
   "source": [
    "### The maximum crimes have occured from midnight to morning 5. And the least crimes have occured between afternoon 1pm to 3pm and between 9pm to 11pm."
   ]
  },
  {
   "cell_type": "markdown",
   "metadata": {},
   "source": [
    "### The crimes have been on a high between the months May to August."
   ]
  },
  {
   "cell_type": "markdown",
   "metadata": {},
   "source": [
    "### The safest hours are afternoon 1pm to 3pm and evening 9pm to 11pm."
   ]
  },
  {
   "cell_type": "markdown",
   "metadata": {},
   "source": [
    "### The month of February has been the time when least number of crime incidents have occured. The crime rate is lower in winter months (from October to February)."
   ]
  },
  {
   "cell_type": "markdown",
   "metadata": {},
   "source": [
    "Grouping the months and discretized hours together."
   ]
  },
  {
   "cell_type": "code",
   "execution_count": 26,
   "metadata": {
    "collapsed": true
   },
   "outputs": [],
   "source": [
    "gr= df6.groupby(['Month','discretized_hour'])['ID'].count()"
   ]
  },
  {
   "cell_type": "code",
   "execution_count": 27,
   "metadata": {
    "collapsed": false,
    "scrolled": true
   },
   "outputs": [
    {
     "data": {
      "image/png": "[encoded data removed]",
      "text/plain": [
       "<matplotlib.figure.Figure at 0x135c37550>"
      ]
     },
     "metadata": {},
     "output_type": "display_data"
    }
   ],
   "source": [
    "fig=sns.heatmap(gr.unstack(),annot=True)"
   ]
  },
  {
   "cell_type": "code",
   "execution_count": 28,
   "metadata": {
    "collapsed": false
   },
   "outputs": [],
   "source": [
    "gr= df5.groupby(['Month','discretized_hour'])['ID'].count()"
   ]
  },
  {
   "cell_type": "code",
   "execution_count": 29,
   "metadata": {
    "collapsed": false,
    "scrolled": true
   },
   "outputs": [
    {
     "data": {
      "image/png": "[encoded data removed]",
      "text/plain": [
       "<matplotlib.figure.Figure at 0x135c63390>"
      ]
     },
     "metadata": {},
     "output_type": "display_data"
    }
   ],
   "source": [
    "fig=sns.heatmap(gr.unstack(),annot=True)"
   ]
  },
  {
   "cell_type": "code",
   "execution_count": 30,
   "metadata": {
    "collapsed": false,
    "scrolled": false
   },
   "outputs": [
    {
     "data": {
      "text/plain": [
       "Month  discretized_hour\n",
       "1      [0, 8]              28845\n",
       "       (8, 12]             24454\n",
       "       (12, 16]            26037\n",
       "       (16, 20]            27802\n",
       "       (20, 23]            16554\n",
       "2      [0, 8]              21352\n",
       "       (8, 12]             20809\n",
       "       (12, 16]            20861\n",
       "       (16, 20]            21723\n",
       "       (20, 23]            13234\n",
       "3      [0, 8]              26278\n",
       "       (8, 12]             24091\n",
       "       (12, 16]            25253\n",
       "       (16, 20]            26497\n",
       "       (20, 23]            16764\n",
       "4      [0, 8]              26243\n",
       "       (8, 12]             23434\n",
       "       (12, 16]            24442\n",
       "       (16, 20]            26770\n",
       "       (20, 23]            17050\n",
       "5      [0, 8]              29679\n",
       "       (8, 12]             25298\n",
       "       (12, 16]            26804\n",
       "       (16, 20]            28399\n",
       "       (20, 23]            19433\n",
       "6      [0, 8]              31319\n",
       "       (8, 12]             24352\n",
       "       (12, 16]            26107\n",
       "       (16, 20]            28320\n",
       "       (20, 23]            20273\n",
       "7      [0, 8]              33222\n",
       "       (8, 12]             24347\n",
       "       (12, 16]            26636\n",
       "       (16, 20]            29502\n",
       "       (20, 23]            21870\n",
       "8      [0, 8]              32508\n",
       "       (8, 12]             24455\n",
       "       (12, 16]            26028\n",
       "       (16, 20]            29054\n",
       "       (20, 23]            21520\n",
       "9      [0, 8]              29457\n",
       "       (8, 12]             23529\n",
       "       (12, 16]            24936\n",
       "       (16, 20]            27288\n",
       "       (20, 23]            18730\n",
       "10     [0, 8]              27925\n",
       "       (8, 12]             24319\n",
       "       (12, 16]            25807\n",
       "       (16, 20]            27649\n",
       "       (20, 23]            17731\n",
       "11     [0, 8]              25260\n",
       "       (8, 12]             22413\n",
       "       (12, 16]            23168\n",
       "       (16, 20]            25324\n",
       "       (20, 23]            15555\n",
       "12     [0, 8]              24672\n",
       "       (8, 12]             21700\n",
       "       (12, 16]            22847\n",
       "       (16, 20]            24380\n",
       "       (20, 23]            14746\n",
       "dtype: int64"
      ]
     },
     "execution_count": 30,
     "metadata": {},
     "output_type": "execute_result"
    }
   ],
   "source": [
    "df6.groupby(('Month','discretized_hour'))['ID'].size()"
   ]
  },
  {
   "cell_type": "code",
   "execution_count": 31,
   "metadata": {
    "collapsed": false
   },
   "outputs": [
    {
     "data": {
      "text/plain": [
       "Month  discretized_hour\n",
       "1      [0, 5]              19061\n",
       "       (5, 10]             21368\n",
       "       (10, 13]            18947\n",
       "       (13, 15]            13452\n",
       "       (15, 18]            20162\n",
       "       (18, 21]            20244\n",
       "       (21, 23]            10458\n",
       "2      [0, 5]              13487\n",
       "       (5, 10]             17910\n",
       "       (10, 13]            15647\n",
       "       (13, 15]            10701\n",
       "       (15, 18]            15855\n",
       "       (18, 21]            16100\n",
       "       (21, 23]             8279\n",
       "3      [0, 5]              17414\n",
       "       (5, 10]             20214\n",
       "       (10, 13]            18533\n",
       "       (13, 15]            13119\n",
       "       (15, 18]            19302\n",
       "       (18, 21]            19809\n",
       "       (21, 23]            10492\n",
       "4      [0, 5]              17449\n",
       "       (5, 10]             19884\n",
       "       (10, 13]            18059\n",
       "       (13, 15]            12540\n",
       "       (15, 18]            19314\n",
       "       (18, 21]            19859\n",
       "       (21, 23]            10834\n",
       "5      [0, 5]              19842\n",
       "       (5, 10]             21629\n",
       "                           ...  \n",
       "8      (18, 21]            22481\n",
       "       (21, 23]            13926\n",
       "9      [0, 5]              19903\n",
       "       (5, 10]             20607\n",
       "       (10, 13]            18116\n",
       "       (13, 15]            12729\n",
       "       (15, 18]            19879\n",
       "       (18, 21]            20655\n",
       "       (21, 23]            12051\n",
       "10     [0, 5]              18100\n",
       "       (5, 10]             21421\n",
       "       (10, 13]            18733\n",
       "       (13, 15]            13104\n",
       "       (15, 18]            20029\n",
       "       (18, 21]            20815\n",
       "       (21, 23]            11229\n",
       "11     [0, 5]              16511\n",
       "       (5, 10]             19168\n",
       "       (10, 13]            17361\n",
       "       (13, 15]            11912\n",
       "       (15, 18]            18543\n",
       "       (18, 21]            18348\n",
       "       (21, 23]             9877\n",
       "12     [0, 5]              16302\n",
       "       (5, 10]             18257\n",
       "       (10, 13]            17161\n",
       "       (13, 15]            11653\n",
       "       (15, 18]            18100\n",
       "       (18, 21]            17445\n",
       "       (21, 23]             9427\n",
       "dtype: int64"
      ]
     },
     "execution_count": 31,
     "metadata": {},
     "output_type": "execute_result"
    }
   ],
   "source": [
    "df5.groupby(('Month','discretized_hour'))['ID'].size()"
   ]
  },
  {
   "cell_type": "markdown",
   "metadata": {},
   "source": [
    "### The maximum crimes have occured at evening 7 pm and afternoon 12 pm"
   ]
  },
  {
   "cell_type": "code",
   "execution_count": 32,
   "metadata": {
    "collapsed": false,
    "scrolled": true
   },
   "outputs": [
    {
     "data": {
      "text/plain": [
       "<matplotlib.axes._subplots.AxesSubplot at 0x115fb4550>"
      ]
     },
     "execution_count": 32,
     "metadata": {},
     "output_type": "execute_result"
    },
    {
     "data": {
      "image/png": "[encoded data removed]",
      "text/plain": [
       "<matplotlib.figure.Figure at 0x118182310>"
      ]
     },
     "metadata": {},
     "output_type": "display_data"
    }
   ],
   "source": [
    "df.groupby('hour')['ID'].count().plot()"
   ]
  },
  {
   "cell_type": "code",
   "execution_count": 33,
   "metadata": {
    "collapsed": false,
    "scrolled": false
   },
   "outputs": [
    {
     "data": {
      "text/plain": [
       "hour\n",
       "19    84127\n",
       "12    83802\n",
       "18    82337\n",
       "20    80776\n",
       "15    79806\n",
       "21    76496\n",
       "16    75981\n",
       "22    75781\n",
       "17    75468\n",
       "14    73585\n",
       "0     71169\n",
       "13    69554\n",
       "9     67607\n",
       "11    66896\n",
       "10    64896\n",
       "23    61183\n",
       "8     50544\n",
       "1     43734\n",
       "2     37667\n",
       "7     34487\n",
       "3     31035\n",
       "6     24593\n",
       "4     23312\n",
       "5     20219\n",
       "Name: ID, dtype: int64"
      ]
     },
     "execution_count": 33,
     "metadata": {},
     "output_type": "execute_result"
    }
   ],
   "source": [
    "df.groupby('hour')['ID'].count().sort_values(ascending=False)"
   ]
  },
  {
   "cell_type": "markdown",
   "metadata": {},
   "source": [
    "### Managerial Insights: There should be more patroling and police between midnight and morning 5 am and in the evenings from 6 to 9 pm "
   ]
  },
  {
   "cell_type": "markdown",
   "metadata": {},
   "source": [
    "### Most unsafe hours start in the evening 6 to 9 pm and from midnight and in the months May to August."
   ]
  },
  {
   "cell_type": "markdown",
   "metadata": {},
   "source": [
    "### Trends of crimes over the years"
   ]
  },
  {
   "cell_type": "markdown",
   "metadata": {},
   "source": [
    "The crimes have decresed over the years from 2012. It was almost the same in 2015 and 2016. Very limited data is collected in 2017 hence the number is small. "
   ]
  },
  {
   "cell_type": "markdown",
   "metadata": {},
   "source": [
    "Using a countplot to count the crimes in each year."
   ]
  },
  {
   "cell_type": "code",
   "execution_count": 34,
   "metadata": {
    "collapsed": false,
    "scrolled": false
   },
   "outputs": [
    {
     "data": {
      "text/plain": [
       "<matplotlib.axes._subplots.AxesSubplot at 0x11828b790>"
      ]
     },
     "execution_count": 34,
     "metadata": {},
     "output_type": "execute_result"
    },
    {
     "data": {
      "image/png": "[encoded data removed]",
      "text/plain": [
       "<matplotlib.figure.Figure at 0x11837ab10>"
      ]
     },
     "metadata": {},
     "output_type": "display_data"
    }
   ],
   "source": [
    "sns.countplot('Year', data=df)"
   ]
  },
  {
   "cell_type": "code",
   "execution_count": 35,
   "metadata": {
    "collapsed": false,
    "scrolled": true
   },
   "outputs": [
    {
     "data": {
      "text/plain": [
       "Year\n",
       "2012    335328\n",
       "2013    306636\n",
       "2014    274345\n",
       "2015    262738\n",
       "2016    264679\n",
       "2017     11329\n",
       "Name: ID, dtype: int64"
      ]
     },
     "execution_count": 35,
     "metadata": {},
     "output_type": "execute_result"
    }
   ],
   "source": [
    "df.groupby('Year')['ID'].count()"
   ]
  },
  {
   "cell_type": "markdown",
   "metadata": {},
   "source": [
    "### Top 5 types of crime"
   ]
  },
  {
   "cell_type": "markdown",
   "metadata": {},
   "source": [
    "Creating a new dataframe crime_count to display types of crimes and their count.Arranged them in descending order."
   ]
  },
  {
   "cell_type": "code",
   "execution_count": 36,
   "metadata": {
    "collapsed": true
   },
   "outputs": [],
   "source": [
    "crime_count = pd.DataFrame(df.groupby('Primary Type').size().sort_values(ascending=False).rename('Count').reset_index())"
   ]
  },
  {
   "cell_type": "code",
   "execution_count": 37,
   "metadata": {
    "collapsed": false
   },
   "outputs": [
    {
     "data": {
      "text/html": [
       "<div>\n",
       "<table border=\"1\" class=\"dataframe\">\n",
       "  <thead>\n",
       "    <tr style=\"text-align: right;\">\n",
       "      <th></th>\n",
       "      <th>Primary Type</th>\n",
       "      <th>Count</th>\n",
       "    </tr>\n",
       "  </thead>\n",
       "  <tbody>\n",
       "    <tr>\n",
       "      <th>0</th>\n",
       "      <td>THEFT</td>\n",
       "      <td>328987</td>\n",
       "    </tr>\n",
       "    <tr>\n",
       "      <th>1</th>\n",
       "      <td>BATTERY</td>\n",
       "      <td>263699</td>\n",
       "    </tr>\n",
       "    <tr>\n",
       "      <th>2</th>\n",
       "      <td>CRIMINAL DAMAGE</td>\n",
       "      <td>155454</td>\n",
       "    </tr>\n",
       "    <tr>\n",
       "      <th>3</th>\n",
       "      <td>NARCOTICS</td>\n",
       "      <td>135239</td>\n",
       "    </tr>\n",
       "    <tr>\n",
       "      <th>4</th>\n",
       "      <td>ASSAULT</td>\n",
       "      <td>91289</td>\n",
       "    </tr>\n",
       "  </tbody>\n",
       "</table>\n",
       "</div>"
      ],
      "text/plain": [
       "      Primary Type   Count\n",
       "0            THEFT  328987\n",
       "1          BATTERY  263699\n",
       "2  CRIMINAL DAMAGE  155454\n",
       "3        NARCOTICS  135239\n",
       "4          ASSAULT   91289"
      ]
     },
     "execution_count": 37,
     "metadata": {},
     "output_type": "execute_result"
    }
   ],
   "source": [
    "crime_count.head(5)"
   ]
  },
  {
   "cell_type": "markdown",
   "metadata": {},
   "source": [
    "A bar graph which shows the Types of crimes plotted against the number of times they have occured."
   ]
  },
  {
   "cell_type": "markdown",
   "metadata": {},
   "source": [
    "Theft has happened the most, followed by Battery and Criminal Damaage."
   ]
  },
  {
   "cell_type": "code",
   "execution_count": 38,
   "metadata": {
    "collapsed": false,
    "scrolled": true
   },
   "outputs": [
    {
     "data": {
      "text/plain": [
       "<seaborn.axisgrid.FacetGrid at 0x11848b150>"
      ]
     },
     "execution_count": 38,
     "metadata": {},
     "output_type": "execute_result"
    },
    {
     "data": {
      "image/png": "[encoded data removed]",
      "text/plain": [
       "<matplotlib.figure.Figure at 0x115fb44d0>"
      ]
     },
     "metadata": {},
     "output_type": "display_data"
    }
   ],
   "source": [
    "sns.factorplot(y='Primary Type', x='Count', data=crime_count, kind='bar',aspect=3,size=6)"
   ]
  },
  {
   "cell_type": "markdown",
   "metadata": {},
   "source": [
    "To check the Domestic type of crimes:"
   ]
  },
  {
   "cell_type": "code",
   "execution_count": 39,
   "metadata": {
    "collapsed": false
   },
   "outputs": [],
   "source": [
    "mask=df.Domestic==1"
   ]
  },
  {
   "cell_type": "code",
   "execution_count": 40,
   "metadata": {
    "collapsed": false,
    "scrolled": false
   },
   "outputs": [],
   "source": [
    "df7=df[mask].groupby('Primary Type')['ID'].size().sort_values(ascending=False)"
   ]
  },
  {
   "cell_type": "markdown",
   "metadata": {},
   "source": [
    "The top 5 types of domestic crimes"
   ]
  },
  {
   "cell_type": "code",
   "execution_count": 41,
   "metadata": {
    "collapsed": false
   },
   "outputs": [
    {
     "data": {
      "text/plain": [
       "Primary Type\n",
       "BATTERY            129130\n",
       "OTHER OFFENSE       27776\n",
       "ASSAULT             23099\n",
       "CRIMINAL DAMAGE     15933\n",
       "THEFT               10519\n",
       "dtype: int64"
      ]
     },
     "execution_count": 41,
     "metadata": {},
     "output_type": "execute_result"
    }
   ],
   "source": [
    "df7.head(5)"
   ]
  },
  {
   "cell_type": "markdown",
   "metadata": {},
   "source": [
    "This shows that the maximum domestic crimes in which arrest have happened in District 25."
   ]
  },
  {
   "cell_type": "code",
   "execution_count": 42,
   "metadata": {
    "collapsed": false,
    "scrolled": false
   },
   "outputs": [
    {
     "data": {
      "text/plain": [
       "25.0"
      ]
     },
     "execution_count": 42,
     "metadata": {},
     "output_type": "execute_result"
    }
   ],
   "source": [
    "df[mask].ix[df.Arrest==1,'District'].max()"
   ]
  },
  {
   "cell_type": "markdown",
   "metadata": {},
   "source": [
    "### Which streets saw the highest crime activity?"
   ]
  },
  {
   "cell_type": "markdown",
   "metadata": {},
   "source": [
    "Creating a new column which extracts on the second last words from the 'Block' column to get the street name."
   ]
  },
  {
   "cell_type": "code",
   "execution_count": 43,
   "metadata": {
    "collapsed": true
   },
   "outputs": [],
   "source": [
    "df['Street']=df['Block'].str.split(\" \").str[-2]"
   ]
  },
  {
   "cell_type": "code",
   "execution_count": 44,
   "metadata": {
    "collapsed": true
   },
   "outputs": [],
   "source": [
    "by_block=pd.DataFrame(df.groupby('Street').size().sort_values(ascending=False).rename('Count').reset_index())"
   ]
  },
  {
   "cell_type": "code",
   "execution_count": 45,
   "metadata": {
    "collapsed": false
   },
   "outputs": [
    {
     "data": {
      "text/html": [
       "<div>\n",
       "<table border=\"1\" class=\"dataframe\">\n",
       "  <thead>\n",
       "    <tr style=\"text-align: right;\">\n",
       "      <th></th>\n",
       "      <th>Street</th>\n",
       "      <th>Count</th>\n",
       "    </tr>\n",
       "  </thead>\n",
       "  <tbody>\n",
       "    <tr>\n",
       "      <th>0</th>\n",
       "      <td>STATE</td>\n",
       "      <td>24146</td>\n",
       "    </tr>\n",
       "    <tr>\n",
       "      <th>1</th>\n",
       "      <td>MICHIGAN</td>\n",
       "      <td>23675</td>\n",
       "    </tr>\n",
       "    <tr>\n",
       "      <th>2</th>\n",
       "      <td>HALSTED</td>\n",
       "      <td>17919</td>\n",
       "    </tr>\n",
       "    <tr>\n",
       "      <th>3</th>\n",
       "      <td>ASHLAND</td>\n",
       "      <td>17485</td>\n",
       "    </tr>\n",
       "    <tr>\n",
       "      <th>4</th>\n",
       "      <td>PARK</td>\n",
       "      <td>15285</td>\n",
       "    </tr>\n",
       "  </tbody>\n",
       "</table>\n",
       "</div>"
      ],
      "text/plain": [
       "     Street  Count\n",
       "0     STATE  24146\n",
       "1  MICHIGAN  23675\n",
       "2   HALSTED  17919\n",
       "3   ASHLAND  17485\n",
       "4      PARK  15285"
      ]
     },
     "execution_count": 45,
     "metadata": {},
     "output_type": "execute_result"
    }
   ],
   "source": [
    "by_block.head()"
   ]
  },
  {
   "cell_type": "markdown",
   "metadata": {
    "collapsed": true
   },
   "source": [
    "# Machine Learning"
   ]
  },
  {
   "cell_type": "markdown",
   "metadata": {},
   "source": [
    "#### I tried to regress 'Arrest' on other parameters to see if there is any relationship between 'Arrest' and other parameters.  "
   ]
  },
  {
   "cell_type": "markdown",
   "metadata": {},
   "source": [
    "#### Running the regression as we can see that it gives out only one coefficient that is non zero i.e 'Beat', that too not very significant. "
   ]
  },
  {
   "cell_type": "code",
   "execution_count": 46,
   "metadata": {
    "collapsed": false
   },
   "outputs": [
    {
     "data": {
      "text/plain": [
       "ID                      0\n",
       "Date                    0\n",
       "Block                   0\n",
       "Primary Type            0\n",
       "Location Description    0\n",
       "Arrest                  0\n",
       "Domestic                0\n",
       "Beat                    0\n",
       "District                0\n",
       "Year                    0\n",
       "DateTime                0\n",
       "hour                    0\n",
       "Month                   0\n",
       "discretized_hour        0\n",
       "dtype: int64"
      ]
     },
     "execution_count": 46,
     "metadata": {},
     "output_type": "execute_result"
    }
   ],
   "source": [
    "df6.isnull().sum()"
   ]
  },
  {
   "cell_type": "code",
   "execution_count": 47,
   "metadata": {
    "collapsed": true
   },
   "outputs": [],
   "source": [
    "dfm=df6"
   ]
  },
  {
   "cell_type": "code",
   "execution_count": 48,
   "metadata": {
    "collapsed": true
   },
   "outputs": [],
   "source": [
    "dfm=dfm.dropna(how='any')"
   ]
  },
  {
   "cell_type": "code",
   "execution_count": 49,
   "metadata": {
    "collapsed": false,
    "scrolled": true
   },
   "outputs": [
    {
     "data": {
      "text/plain": [
       "ID                      0\n",
       "Date                    0\n",
       "Block                   0\n",
       "Primary Type            0\n",
       "Location Description    0\n",
       "Arrest                  0\n",
       "Domestic                0\n",
       "Beat                    0\n",
       "District                0\n",
       "Year                    0\n",
       "DateTime                0\n",
       "hour                    0\n",
       "Month                   0\n",
       "discretized_hour        0\n",
       "dtype: int64"
      ]
     },
     "execution_count": 49,
     "metadata": {},
     "output_type": "execute_result"
    }
   ],
   "source": [
    "dfm.isnull().sum()"
   ]
  },
  {
   "cell_type": "code",
   "execution_count": 50,
   "metadata": {
    "collapsed": true
   },
   "outputs": [],
   "source": [
    "def getdow(dtm):\n",
    "        return dtm.weekday()"
   ]
  },
  {
   "cell_type": "code",
   "execution_count": 51,
   "metadata": {
    "collapsed": false
   },
   "outputs": [],
   "source": [
    "dfm['DayofWeek']=dfm['DateTime'].apply(getdow)"
   ]
  },
  {
   "cell_type": "code",
   "execution_count": 52,
   "metadata": {
    "collapsed": false
   },
   "outputs": [
    {
     "data": {
      "text/plain": [
       "Index([u'ID', u'Date', u'Block', u'Primary Type', u'Location Description',\n",
       "       u'Arrest', u'Domestic', u'Beat', u'District', u'Year', u'DateTime',\n",
       "       u'hour', u'Month', u'discretized_hour', u'DayofWeek'],\n",
       "      dtype='object')"
      ]
     },
     "execution_count": 52,
     "metadata": {},
     "output_type": "execute_result"
    }
   ],
   "source": [
    "dfm.columns"
   ]
  },
  {
   "cell_type": "code",
   "execution_count": 53,
   "metadata": {
    "collapsed": false
   },
   "outputs": [],
   "source": [
    "dfm=dfm.drop(['Date','DateTime','Block','ID'],axis=1)"
   ]
  },
  {
   "cell_type": "code",
   "execution_count": 54,
   "metadata": {
    "collapsed": false
   },
   "outputs": [],
   "source": [
    "dfm = pd.get_dummies(data=dfm,columns=['Primary Type','Location Description'])"
   ]
  },
  {
   "cell_type": "code",
   "execution_count": 55,
   "metadata": {
    "collapsed": true
   },
   "outputs": [],
   "source": [
    "Y=dfm.Arrest"
   ]
  },
  {
   "cell_type": "code",
   "execution_count": 56,
   "metadata": {
    "collapsed": true
   },
   "outputs": [],
   "source": [
    "X = dfm.drop(['Arrest','discretized_hour'],axis=1)"
   ]
  },
  {
   "cell_type": "code",
   "execution_count": 57,
   "metadata": {
    "collapsed": true
   },
   "outputs": [],
   "source": [
    "from sklearn import linear_model\n",
    "regLasso = linear_model.Lasso()"
   ]
  },
  {
   "cell_type": "code",
   "execution_count": 58,
   "metadata": {
    "collapsed": false
   },
   "outputs": [
    {
     "data": {
      "text/plain": [
       "Lasso(alpha=1.0, copy_X=True, fit_intercept=True, max_iter=1000,\n",
       "   normalize=False, positive=False, precompute=False, random_state=None,\n",
       "   selection='cyclic', tol=0.0001, warm_start=False)"
      ]
     },
     "execution_count": 58,
     "metadata": {},
     "output_type": "execute_result"
    }
   ],
   "source": [
    "regLasso.fit(X,Y)"
   ]
  },
  {
   "cell_type": "code",
   "execution_count": 59,
   "metadata": {
    "collapsed": true
   },
   "outputs": [],
   "source": [
    "d={X.columns[i] : regLasso.coef_[i] for i in range(0,len(X.columns)) }"
   ]
  },
  {
   "cell_type": "code",
   "execution_count": 60,
   "metadata": {
    "collapsed": true
   },
   "outputs": [],
   "source": [
    "s=pd.Series(d)"
   ]
  },
  {
   "cell_type": "code",
   "execution_count": 61,
   "metadata": {
    "collapsed": false
   },
   "outputs": [
    {
     "data": {
      "text/plain": [
       "Beat   -0.000012\n",
       "dtype: float64"
      ]
     },
     "execution_count": 61,
     "metadata": {},
     "output_type": "execute_result"
    }
   ],
   "source": [
    "s[s!=0]"
   ]
  },
  {
   "cell_type": "markdown",
   "metadata": {},
   "source": [
    "# Clustering - Kmeans\n"
   ]
  },
  {
   "cell_type": "markdown",
   "metadata": {},
   "source": [
    "#### Made 2 clusters to find some insights"
   ]
  },
  {
   "cell_type": "code",
   "execution_count": 62,
   "metadata": {
    "collapsed": false
   },
   "outputs": [
    {
     "data": {
      "text/plain": [
       "Index([u'Unnamed: 0', u'ID', u'Case Number', u'Date', u'Block', u'IUCR',\n",
       "       u'Primary Type', u'Description', u'Location Description', u'Arrest',\n",
       "       u'Domestic', u'Beat', u'District', u'Ward', u'Community Area',\n",
       "       u'FBI Code', u'X Coordinate', u'Y Coordinate', u'Year', u'Updated On',\n",
       "       u'Latitude', u'Longitude', u'Location'],\n",
       "      dtype='object')"
      ]
     },
     "execution_count": 62,
     "metadata": {},
     "output_type": "execute_result"
    }
   ],
   "source": [
    "df4.columns"
   ]
  },
  {
   "cell_type": "code",
   "execution_count": 63,
   "metadata": {
    "collapsed": true
   },
   "outputs": [],
   "source": [
    "dfk=df4"
   ]
  },
  {
   "cell_type": "code",
   "execution_count": 64,
   "metadata": {
    "collapsed": true
   },
   "outputs": [],
   "source": [
    "dfk=dfk.dropna(how='any')"
   ]
  },
  {
   "cell_type": "code",
   "execution_count": 65,
   "metadata": {
    "collapsed": false
   },
   "outputs": [],
   "source": [
    "dfk=dfk.drop(['Block','FBI Code','Updated On','Description','Location','Unnamed: 0','Year' ,'Beat','Primary Type','ID', 'Case Number', 'Date',  'IUCR','Latitude', 'Longitude','Community Area','Ward'],axis=1)"
   ]
  },
  {
   "cell_type": "code",
   "execution_count": 66,
   "metadata": {
    "collapsed": false
   },
   "outputs": [
    {
     "data": {
      "text/plain": [
       "Index([u'Location Description', u'Arrest', u'Domestic', u'District',\n",
       "       u'X Coordinate', u'Y Coordinate'],\n",
       "      dtype='object')"
      ]
     },
     "execution_count": 66,
     "metadata": {},
     "output_type": "execute_result"
    }
   ],
   "source": [
    "dfk.columns"
   ]
  },
  {
   "cell_type": "markdown",
   "metadata": {},
   "source": [
    "#### Took a limited set of Locations where the count of crimes is high"
   ]
  },
  {
   "cell_type": "code",
   "execution_count": 67,
   "metadata": {
    "collapsed": true
   },
   "outputs": [],
   "source": [
    "x=pd.DataFrame(dfk.groupby('Location Description').size().sort_values(ascending=False).rename('Count').reset_index())"
   ]
  },
  {
   "cell_type": "code",
   "execution_count": 68,
   "metadata": {
    "collapsed": false,
    "scrolled": true
   },
   "outputs": [],
   "source": [
    "l1=pd.merge(dfk,x,how='inner',on='Location Description')"
   ]
  },
  {
   "cell_type": "code",
   "execution_count": 69,
   "metadata": {
    "collapsed": false
   },
   "outputs": [
    {
     "data": {
      "text/plain": [
       "Location Description     object\n",
       "Arrest                     bool\n",
       "Domestic                   bool\n",
       "District                float64\n",
       "X Coordinate            float64\n",
       "Y Coordinate            float64\n",
       "Count                     int64\n",
       "dtype: object"
      ]
     },
     "execution_count": 69,
     "metadata": {},
     "output_type": "execute_result"
    }
   ],
   "source": [
    "l1.dtypes"
   ]
  },
  {
   "cell_type": "code",
   "execution_count": 70,
   "metadata": {
    "collapsed": true
   },
   "outputs": [],
   "source": [
    "ab=l1.Count>=20000"
   ]
  },
  {
   "cell_type": "code",
   "execution_count": 71,
   "metadata": {
    "collapsed": true
   },
   "outputs": [],
   "source": [
    "dfk=l1[ab]"
   ]
  },
  {
   "cell_type": "code",
   "execution_count": 72,
   "metadata": {
    "collapsed": false
   },
   "outputs": [
    {
     "data": {
      "text/plain": [
       "Index([u'Location Description', u'Arrest', u'Domestic', u'District',\n",
       "       u'X Coordinate', u'Y Coordinate', u'Count'],\n",
       "      dtype='object')"
      ]
     },
     "execution_count": 72,
     "metadata": {},
     "output_type": "execute_result"
    }
   ],
   "source": [
    "dfk.columns"
   ]
  },
  {
   "cell_type": "code",
   "execution_count": 73,
   "metadata": {
    "collapsed": false
   },
   "outputs": [],
   "source": [
    "dfk=pd.get_dummies(dfk,columns=['Arrest','Location Description'])"
   ]
  },
  {
   "cell_type": "code",
   "execution_count": 74,
   "metadata": {
    "collapsed": false
   },
   "outputs": [
    {
     "data": {
      "text/plain": [
       "Index([u'Domestic', u'District', u'X Coordinate', u'Y Coordinate', u'Count',\n",
       "       u'Arrest_False', u'Arrest_True', u'Location Description_ALLEY',\n",
       "       u'Location Description_APARTMENT',\n",
       "       u'Location Description_DEPARTMENT STORE', u'Location Description_OTHER',\n",
       "       u'Location Description_PARKING LOT/GARAGE(NON.RESID.)',\n",
       "       u'Location Description_RESIDENCE',\n",
       "       u'Location Description_RESIDENCE PORCH/HALLWAY',\n",
       "       u'Location Description_RESIDENCE-GARAGE',\n",
       "       u'Location Description_RESIDENTIAL YARD (FRONT/BACK)',\n",
       "       u'Location Description_RESTAURANT',\n",
       "       u'Location Description_SCHOOL, PUBLIC, BUILDING',\n",
       "       u'Location Description_SIDEWALK',\n",
       "       u'Location Description_SMALL RETAIL STORE',\n",
       "       u'Location Description_STREET',\n",
       "       u'Location Description_VEHICLE NON-COMMERCIAL'],\n",
       "      dtype='object')"
      ]
     },
     "execution_count": 74,
     "metadata": {},
     "output_type": "execute_result"
    }
   ],
   "source": [
    "dfk.columns"
   ]
  },
  {
   "cell_type": "code",
   "execution_count": 75,
   "metadata": {
    "collapsed": false
   },
   "outputs": [
    {
     "data": {
      "text/plain": [
       "KMeans(algorithm='auto', copy_x=True, init='k-means++', max_iter=300,\n",
       "    n_clusters=2, n_init=10, n_jobs=1, precompute_distances='auto',\n",
       "    random_state=0, tol=0.0001, verbose=0)"
      ]
     },
     "execution_count": 75,
     "metadata": {},
     "output_type": "execute_result"
    }
   ],
   "source": [
    "from sklearn.cluster import KMeans\n",
    "clu = KMeans(n_clusters=2, random_state=0)\n",
    "clu.fit(dfk)"
   ]
  },
  {
   "cell_type": "code",
   "execution_count": 76,
   "metadata": {
    "collapsed": true
   },
   "outputs": [],
   "source": [
    "dfk['cluster'] = clu.labels_"
   ]
  },
  {
   "cell_type": "code",
   "execution_count": 77,
   "metadata": {
    "collapsed": false
   },
   "outputs": [
    {
     "data": {
      "text/html": [
       "<div>\n",
       "<table border=\"1\" class=\"dataframe\">\n",
       "  <thead>\n",
       "    <tr style=\"text-align: right;\">\n",
       "      <th></th>\n",
       "      <th>Domestic</th>\n",
       "      <th>District</th>\n",
       "      <th>X Coordinate</th>\n",
       "      <th>Y Coordinate</th>\n",
       "      <th>Count</th>\n",
       "      <th>Arrest_False</th>\n",
       "      <th>Arrest_True</th>\n",
       "      <th>Location Description_ALLEY</th>\n",
       "      <th>Location Description_APARTMENT</th>\n",
       "      <th>Location Description_DEPARTMENT STORE</th>\n",
       "      <th>...</th>\n",
       "      <th>Location Description_RESIDENCE</th>\n",
       "      <th>Location Description_RESIDENCE PORCH/HALLWAY</th>\n",
       "      <th>Location Description_RESIDENCE-GARAGE</th>\n",
       "      <th>Location Description_RESIDENTIAL YARD (FRONT/BACK)</th>\n",
       "      <th>Location Description_RESTAURANT</th>\n",
       "      <th>Location Description_SCHOOL, PUBLIC, BUILDING</th>\n",
       "      <th>Location Description_SIDEWALK</th>\n",
       "      <th>Location Description_SMALL RETAIL STORE</th>\n",
       "      <th>Location Description_STREET</th>\n",
       "      <th>Location Description_VEHICLE NON-COMMERCIAL</th>\n",
       "    </tr>\n",
       "    <tr>\n",
       "      <th>cluster</th>\n",
       "      <th></th>\n",
       "      <th></th>\n",
       "      <th></th>\n",
       "      <th></th>\n",
       "      <th></th>\n",
       "      <th></th>\n",
       "      <th></th>\n",
       "      <th></th>\n",
       "      <th></th>\n",
       "      <th></th>\n",
       "      <th></th>\n",
       "      <th></th>\n",
       "      <th></th>\n",
       "      <th></th>\n",
       "      <th></th>\n",
       "      <th></th>\n",
       "      <th></th>\n",
       "      <th></th>\n",
       "      <th></th>\n",
       "      <th></th>\n",
       "      <th></th>\n",
       "    </tr>\n",
       "  </thead>\n",
       "  <tbody>\n",
       "    <tr>\n",
       "      <th>0</th>\n",
       "      <td>0.210917</td>\n",
       "      <td>11.127352</td>\n",
       "      <td>1.164396e+06</td>\n",
       "      <td>1.883404e+06</td>\n",
       "      <td>240292</td>\n",
       "      <td>0.753777</td>\n",
       "      <td>0.246223</td>\n",
       "      <td>0.000000</td>\n",
       "      <td>0.202336</td>\n",
       "      <td>0.000000</td>\n",
       "      <td>...</td>\n",
       "      <td>0.252412</td>\n",
       "      <td>0.000000</td>\n",
       "      <td>0.000000</td>\n",
       "      <td>0.000000</td>\n",
       "      <td>0.000000</td>\n",
       "      <td>0.000000</td>\n",
       "      <td>0.178696</td>\n",
       "      <td>0.000000</td>\n",
       "      <td>0.366556</td>\n",
       "      <td>0.000000</td>\n",
       "    </tr>\n",
       "    <tr>\n",
       "      <th>1</th>\n",
       "      <td>0.060770</td>\n",
       "      <td>11.619611</td>\n",
       "      <td>1.164334e+06</td>\n",
       "      <td>1.888221e+06</td>\n",
       "      <td>32655</td>\n",
       "      <td>0.730536</td>\n",
       "      <td>0.269464</td>\n",
       "      <td>0.094859</td>\n",
       "      <td>0.000000</td>\n",
       "      <td>0.061824</td>\n",
       "      <td>...</td>\n",
       "      <td>0.000000</td>\n",
       "      <td>0.075917</td>\n",
       "      <td>0.076691</td>\n",
       "      <td>0.091731</td>\n",
       "      <td>0.076509</td>\n",
       "      <td>0.077353</td>\n",
       "      <td>0.000000</td>\n",
       "      <td>0.085658</td>\n",
       "      <td>0.000000</td>\n",
       "      <td>0.072865</td>\n",
       "    </tr>\n",
       "  </tbody>\n",
       "</table>\n",
       "<p>2 rows × 22 columns</p>\n",
       "</div>"
      ],
      "text/plain": [
       "         Domestic   District  X Coordinate  Y Coordinate   Count  \\\n",
       "cluster                                                            \n",
       "0        0.210917  11.127352  1.164396e+06  1.883404e+06  240292   \n",
       "1        0.060770  11.619611  1.164334e+06  1.888221e+06   32655   \n",
       "\n",
       "         Arrest_False  Arrest_True  Location Description_ALLEY  \\\n",
       "cluster                                                          \n",
       "0            0.753777     0.246223                    0.000000   \n",
       "1            0.730536     0.269464                    0.094859   \n",
       "\n",
       "         Location Description_APARTMENT  \\\n",
       "cluster                                   \n",
       "0                              0.202336   \n",
       "1                              0.000000   \n",
       "\n",
       "         Location Description_DEPARTMENT STORE  \\\n",
       "cluster                                          \n",
       "0                                     0.000000   \n",
       "1                                     0.061824   \n",
       "\n",
       "                            ...                       \\\n",
       "cluster                     ...                        \n",
       "0                           ...                        \n",
       "1                           ...                        \n",
       "\n",
       "         Location Description_RESIDENCE  \\\n",
       "cluster                                   \n",
       "0                              0.252412   \n",
       "1                              0.000000   \n",
       "\n",
       "         Location Description_RESIDENCE PORCH/HALLWAY  \\\n",
       "cluster                                                 \n",
       "0                                            0.000000   \n",
       "1                                            0.075917   \n",
       "\n",
       "         Location Description_RESIDENCE-GARAGE  \\\n",
       "cluster                                          \n",
       "0                                     0.000000   \n",
       "1                                     0.076691   \n",
       "\n",
       "         Location Description_RESIDENTIAL YARD (FRONT/BACK)  \\\n",
       "cluster                                                       \n",
       "0                                                 0.000000    \n",
       "1                                                 0.091731    \n",
       "\n",
       "         Location Description_RESTAURANT  \\\n",
       "cluster                                    \n",
       "0                               0.000000   \n",
       "1                               0.076509   \n",
       "\n",
       "         Location Description_SCHOOL, PUBLIC, BUILDING  \\\n",
       "cluster                                                  \n",
       "0                                             0.000000   \n",
       "1                                             0.077353   \n",
       "\n",
       "         Location Description_SIDEWALK  \\\n",
       "cluster                                  \n",
       "0                             0.178696   \n",
       "1                             0.000000   \n",
       "\n",
       "         Location Description_SMALL RETAIL STORE  Location Description_STREET  \\\n",
       "cluster                                                                         \n",
       "0                                       0.000000                     0.366556   \n",
       "1                                       0.085658                     0.000000   \n",
       "\n",
       "         Location Description_VEHICLE NON-COMMERCIAL  \n",
       "cluster                                               \n",
       "0                                           0.000000  \n",
       "1                                           0.072865  \n",
       "\n",
       "[2 rows x 22 columns]"
      ]
     },
     "execution_count": 77,
     "metadata": {},
     "output_type": "execute_result"
    }
   ],
   "source": [
    "dfk.groupby('cluster').mean()"
   ]
  },
  {
   "cell_type": "markdown",
   "metadata": {},
   "source": [
    "Cluster 1 has:\n",
    "1. Very less number of crimes compared to cluster 0\n",
    "2. Less number of domestic crimes. Almost half of the domestic crimes than cluster 0.\n",
    "3. Has no crimes taking place at residence\n",
    "4. The arrest values are fairly similar."
   ]
  }
 ],
 "metadata": {
  "kernelspec": {
   "display_name": "Python 2",
   "language": "python",
   "name": "python2"
  },
  "language_info": {
   "codemirror_mode": {
    "name": "ipython",
    "version": 2
   },
   "file_extension": ".py",
   "mimetype": "text/x-python",
   "name": "python",
   "nbconvert_exporter": "python",
   "pygments_lexer": "ipython2",
   "version": "2.7.11"
  }
 },
 "nbformat": 4,
 "nbformat_minor": 0
}
